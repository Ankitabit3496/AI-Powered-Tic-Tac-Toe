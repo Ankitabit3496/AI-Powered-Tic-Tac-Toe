{
 "cells": [
  {
   "cell_type": "code",
   "execution_count": 1,
   "metadata": {},
   "outputs": [],
   "source": [
    "import numpy as np\n",
    "from math import inf as infinity\n",
    "import itertools\n",
    "import random"
   ]
  },
  {
   "cell_type": "code",
   "execution_count": 2,
   "metadata": {},
   "outputs": [],
   "source": [
    "game_state = [[' ',' ',' '],\n",
    "              [' ',' ',' '],\n",
    "              [' ',' ',' ']]\n",
    "players = ['X','O']"
   ]
  },
  {
   "cell_type": "code",
   "execution_count": 3,
   "metadata": {},
   "outputs": [],
   "source": [
    "def play_move(state, player, block_no):\n",
    "    r_index= int((block_no-1)/3)   #row index\n",
    "    c_index= (block_no-1)%3        #column index\n",
    "    if state[r_index][c_index] is ' ':       #block is empty\n",
    "        state[r_index][c_index] = player\n",
    "    else:\n",
    "        block_no = int(input(\"Block is not empty, Please choose again: \"))\n",
    "        play_move(state, player, block_no)"
   ]
  },
  {
   "cell_type": "code",
   "execution_count": 4,
   "metadata": {},
   "outputs": [],
   "source": [
    "def copy_game_state(state):\n",
    "    new_state = [[' ',' ',' '],[' ',' ',' '],[' ',' ',' ']]\n",
    "    for i in range(3):\n",
    "        for j in range(3):\n",
    "            new_state[i][j] = state[i][j]\n",
    "    return new_state"
   ]
  },
  {
   "cell_type": "code",
   "execution_count": 5,
   "metadata": {},
   "outputs": [],
   "source": [
    "def check_current_state(game_state):\n",
    "    #check horizontal state\n",
    "    for i in range(0,3):\n",
    "        if (game_state[i][0] == game_state[i][1] and \n",
    "        game_state[i][1] == game_state[i][2] and \n",
    "        game_state[i][0] is not ' '):\n",
    "            return game_state[i][0], \"Done\"\n",
    "    \n",
    "    #check vertical\n",
    "    for i in range(0,3):\n",
    "        if (game_state[0][i] == game_state[1][i] and \n",
    "        game_state[1][i] == game_state[2][i] and \n",
    "        game_state[0][i] is not ' '):\n",
    "            return game_state[0][i], \"Done\"\n",
    "    \n",
    "    # Check diagonals\n",
    "    if (game_state[0][0] == game_state[1][1] and \n",
    "        game_state[1][1] == game_state[2][2] and \n",
    "        game_state[0][0] is not ' '):\n",
    "        return game_state[1][1], \"Done\"\n",
    "    if (game_state[2][0] == game_state[1][1] and \n",
    "        game_state[1][1] == game_state[0][2] and \n",
    "        game_state[2][0] is not ' '):\n",
    "        return game_state[1][1], \"Done\"\n",
    "    \n",
    "    # Check if draw\n",
    "    draw_flag = 0\n",
    "    for i in range(3):\n",
    "        for j in range(3):\n",
    "            if game_state[i][j] is ' ':\n",
    "                draw_flag = 1\n",
    "    if draw_flag is 0:\n",
    "        return None, \"Draw\"\n",
    "    \n",
    "    return None, \"Not Done\"\n",
    "    "
   ]
  },
  {
   "cell_type": "code",
   "execution_count": 6,
   "metadata": {},
   "outputs": [],
   "source": [
    "def print_board(game_state):\n",
    "    print('----------------')\n",
    "    print('| ' + str(game_state[0][0]) + ' | ' + str(game_state[0][1]) + ' | ' + str(game_state[0][2]) + ' |')\n",
    "    print('----------------')\n",
    "    print('| ' + str(game_state[1][0]) + ' | ' + str(game_state[1][1]) + ' | ' + str(game_state[1][2]) + ' |')\n",
    "    print('----------------')\n",
    "    print('| ' + str(game_state[2][0]) + ' | ' + str(game_state[2][1]) + ' | ' + str(game_state[2][2]) + ' |')\n",
    "    print('----------------')\n",
    "     "
   ]
  },
  {
   "cell_type": "code",
   "execution_count": 7,
   "metadata": {},
   "outputs": [
    {
     "name": "stdout",
     "output_type": "stream",
     "text": [
      "n_states = 19683 \n",
      "n_actions = 9\n"
     ]
    }
   ],
   "source": [
    "# Initialize state values\n",
    "player = ['X','O',' ']\n",
    "states_dict = {}\n",
    "all_possible_states = [[list(i[0:3]),list(i[3:6]),list(i[6:10])] for i in itertools.product(player, repeat = 9)]\n",
    "n_states = len(all_possible_states) # 2 players, 9 spaces\n",
    "n_actions = 9   # 9 spaces\n",
    "state_values_for_AI = np.full((n_states),0.0)\n",
    "print(\"n_states = %i \\nn_actions = %i\"%(n_states, n_actions))"
   ]
  },
  {
   "cell_type": "code",
   "execution_count": 8,
   "metadata": {},
   "outputs": [],
   "source": [
    "for i in range(n_states):\n",
    "    states_dict[i] = all_possible_states[i]\n",
    "    winner, _ = check_current_state(states_dict[i])\n",
    "    if winner == 'O':   # AI won\n",
    "        state_values_for_AI[i] = 1\n",
    "    elif winner == 'X':   # AI lost\n",
    "        state_values_for_AI[i] = -1\n"
   ]
  },
  {
   "cell_type": "code",
   "execution_count": 9,
   "metadata": {},
   "outputs": [],
   "source": [
    "def update_state_value(curr_state_id, next_state_id, learning_rate):\n",
    "    new_value = state_values_for_AI[curr_state_id] + learning_rate*(state_values_for_AI[next_state_id]  - state_values_for_AI[curr_state_id])\n",
    "    state_values_for_AI[curr_state_id] = new_value"
   ]
  },
  {
   "cell_type": "code",
   "execution_count": null,
   "metadata": {},
   "outputs": [
    {
     "name": "stdout",
     "output_type": "stream",
     "text": [
      "\n",
      "New Game!\n",
      "----------------\n",
      "|   |   |   |\n",
      "----------------\n",
      "|   |   |   |\n",
      "----------------\n",
      "|   |   |   |\n",
      "----------------\n"
     ]
    }
   ],
   "source": [
    "def getBestMove(state, player):\n",
    "    '''Reinforcement Learning Algorithm'''    \n",
    "    moves = []\n",
    "    curr_state_values = []\n",
    "    empty_cells = []\n",
    "    for i in range(3):\n",
    "        for j in range(3):\n",
    "            if state[i][j] is ' ':\n",
    "                empty_cells.append(i*3 + (j+1))\n",
    "    \n",
    "    for empty_cell in empty_cells:\n",
    "        moves.append(empty_cell)\n",
    "        new_state = copy_game_state(state)\n",
    "        play_move(new_state, player, empty_cell)\n",
    "        next_state_id = list(states_dict.keys())[list(states_dict.values()).index(new_state)]\n",
    "        curr_state_values.append(state_values_for_AI[next_state_id])\n",
    "        \n",
    "    print('Possible moves = ' + str(moves))\n",
    "    print('Move values = ' + str(curr_state_values))    \n",
    "    best_move_id = np.argmax(curr_state_values)\n",
    "    best_move = moves[best_move_id]\n",
    "    return best_move\n",
    "\n",
    "# PLaying\n",
    "    \n",
    "#LOAD TRAINED STATE VALUES\n",
    "state_values_for_AI = np.loadtxt('trained_state_values_O.txt', dtype=np.float64)\n",
    "\n",
    "play_again = 'Y'\n",
    "while play_again == 'Y' or play_again == 'y':\n",
    "    game_state = [[' ',' ',' '],\n",
    "              [' ',' ',' '],\n",
    "              [' ',' ',' ']]\n",
    "    current_state = \"Not Done\"\n",
    "    print(\"\\nNew Game!\")\n",
    "    print_board(game_state)\n",
    "    player_choice = input(\"Choose which player goes first - X (You - the human) or O(The AI): \")\n",
    "    winner = None\n",
    "    \n",
    "    if player_choice == 'X' or player_choice == 'x':\n",
    "        current_player_id = 0\n",
    "    else:\n",
    "        current_player_id = 1\n",
    "        \n",
    "    while current_state == \"Not Done\":\n",
    "        curr_state_id = list(states_dict.keys())[list(states_dict.values()).index(game_state)]\n",
    "        if current_player_id == 0: # Human's turn\n",
    "            block_choice = int(input(\"Hello Human, your turn! Choose where to place (1 to 9): \"))\n",
    "            play_move(game_state ,players[current_player_id], block_choice)\n",
    "            \n",
    "        else:   # AI's turn\n",
    "            block_choice = getBestMove(game_state, players[current_player_id])\n",
    "            play_move(game_state ,players[current_player_id], block_choice)\n",
    "            print(\"AI plays move: \" + str(block_choice))\n",
    "        \n",
    "        print_board(game_state)\n",
    "        winner, current_state = check_current_state(game_state)\n",
    "        if winner is not None:\n",
    "            print(str(winner) + \" won!\")\n",
    "        else:\n",
    "            current_player_id = (current_player_id + 1)%2\n",
    "        \n",
    "        if current_state is \"Draw\":\n",
    "            print(\"Draw!\")\n",
    "            \n",
    "    play_again = input('Want to try again?(Y/N) : ')\n",
    "print('GAME ENDED!')        "
   ]
  },
  {
   "cell_type": "code",
   "execution_count": null,
   "metadata": {},
   "outputs": [],
   "source": []
  }
 ],
 "metadata": {
  "kernelspec": {
   "display_name": "Python 3",
   "language": "python",
   "name": "python3"
  },
  "language_info": {
   "codemirror_mode": {
    "name": "ipython",
    "version": 3
   },
   "file_extension": ".py",
   "mimetype": "text/x-python",
   "name": "python",
   "nbconvert_exporter": "python",
   "pygments_lexer": "ipython3",
   "version": "3.7.6"
  }
 },
 "nbformat": 4,
 "nbformat_minor": 4
}
